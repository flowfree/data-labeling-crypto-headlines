{
 "cells": [
  {
   "attachments": {},
   "cell_type": "markdown",
   "metadata": {},
   "source": [
    "# Data Preparation"
   ]
  },
  {
   "cell_type": "code",
   "execution_count": 9,
   "metadata": {},
   "outputs": [],
   "source": [
    "# Load and setup Django project \n",
    "\n",
    "%reload_ext autoreload\n",
    "%autoreload 2\n",
    "\n",
    "import os\n",
    "import sys\n",
    "\n",
    "os.chdir(os.path.dirname(os.getcwd()))\n",
    "sys.path.insert(0, os.getcwd())\n",
    "os.environ.setdefault(\"DJANGO_SETTINGS_MODULE\", \"config.settings.development\")\n",
    "os.environ[\"DJANGO_ALLOW_ASYNC_UNSAFE\"] = \"true\"\n",
    "\n",
    "import django\n",
    "django.setup()\n",
    "import pandas as pd"
   ]
  },
  {
   "cell_type": "code",
   "execution_count": 10,
   "metadata": {},
   "outputs": [
    {
     "name": "stdout",
     "output_type": "stream",
     "text": [
      "Saved to data/crypto-news.csv.\n"
     ]
    }
   ],
   "source": [
    "# Export the data from the News model to CSV \n",
    "\n",
    "import csv\n",
    "from django.conf import settings\n",
    "from data_labeling.models import News\n",
    "\n",
    "\n",
    "DATA_DIR = settings.BASE_DIR / 'notebooks/data'\n",
    "csv_filename = f'{DATA_DIR}/crypto-news.csv'\n",
    "\n",
    "with open(csv_filename, 'w') as f:\n",
    "    writer = csv.writer(f)\n",
    "    writer.writerow(['text', 'label'])\n",
    "\n",
    "    for news in News.objects.all():\n",
    "        writer.writerow([news.title, news.sentiment])\n",
    "\n",
    "print(f'Saved to data/{os.path.basename(csv_filename)}.')"
   ]
  },
  {
   "cell_type": "code",
   "execution_count": 11,
   "metadata": {},
   "outputs": [
    {
     "data": {
      "text/html": [
       "<div>\n",
       "<style scoped>\n",
       "    .dataframe tbody tr th:only-of-type {\n",
       "        vertical-align: middle;\n",
       "    }\n",
       "\n",
       "    .dataframe tbody tr th {\n",
       "        vertical-align: top;\n",
       "    }\n",
       "\n",
       "    .dataframe thead th {\n",
       "        text-align: right;\n",
       "    }\n",
       "</style>\n",
       "<table border=\"1\" class=\"dataframe\">\n",
       "  <thead>\n",
       "    <tr style=\"text-align: right;\">\n",
       "      <th></th>\n",
       "      <th>text</th>\n",
       "      <th>label</th>\n",
       "    </tr>\n",
       "  </thead>\n",
       "  <tbody>\n",
       "    <tr>\n",
       "      <th>0</th>\n",
       "      <td>Coinbase: Ether Selling Pressure Should Be Fai...</td>\n",
       "      <td>neutral</td>\n",
       "    </tr>\n",
       "    <tr>\n",
       "      <th>1</th>\n",
       "      <td>BUSD Stablecoin Inches Toward $1 Peg After Bin...</td>\n",
       "      <td>positive</td>\n",
       "    </tr>\n",
       "    <tr>\n",
       "      <th>2</th>\n",
       "      <td>Sam Bankman-Fried, Caroline Ellison, and Other...</td>\n",
       "      <td>negative</td>\n",
       "    </tr>\n",
       "    <tr>\n",
       "      <th>3</th>\n",
       "      <td>NFT Marketplace Blur's Token Reaches $500M Tra...</td>\n",
       "      <td>positive</td>\n",
       "    </tr>\n",
       "    <tr>\n",
       "      <th>4</th>\n",
       "      <td>Bitcoin BTC Price Rebounds Above $22K After Te...</td>\n",
       "      <td>neutral</td>\n",
       "    </tr>\n",
       "    <tr>\n",
       "      <th>...</th>\n",
       "      <td>...</td>\n",
       "      <td>...</td>\n",
       "    </tr>\n",
       "    <tr>\n",
       "      <th>1106</th>\n",
       "      <td>Most blockchain advocates haven‘t even used Bi...</td>\n",
       "      <td>neutral</td>\n",
       "    </tr>\n",
       "    <tr>\n",
       "      <th>1107</th>\n",
       "      <td>What is QuickSwap, and how does it work?. Swap...</td>\n",
       "      <td>neutral</td>\n",
       "    </tr>\n",
       "    <tr>\n",
       "      <th>1108</th>\n",
       "      <td>Binance custody partner clarifies Singapore li...</td>\n",
       "      <td>neutral</td>\n",
       "    </tr>\n",
       "    <tr>\n",
       "      <th>1109</th>\n",
       "      <td>United States CBDC would ‘crowd out’ crypto ec...</td>\n",
       "      <td>neutral</td>\n",
       "    </tr>\n",
       "    <tr>\n",
       "      <th>1110</th>\n",
       "      <td>France on the verge of passing stringent crypt...</td>\n",
       "      <td>neutral</td>\n",
       "    </tr>\n",
       "  </tbody>\n",
       "</table>\n",
       "<p>1111 rows × 2 columns</p>\n",
       "</div>"
      ],
      "text/plain": [
       "                                                   text     label\n",
       "0     Coinbase: Ether Selling Pressure Should Be Fai...   neutral\n",
       "1     BUSD Stablecoin Inches Toward $1 Peg After Bin...  positive\n",
       "2     Sam Bankman-Fried, Caroline Ellison, and Other...  negative\n",
       "3     NFT Marketplace Blur's Token Reaches $500M Tra...  positive\n",
       "4     Bitcoin BTC Price Rebounds Above $22K After Te...   neutral\n",
       "...                                                 ...       ...\n",
       "1106  Most blockchain advocates haven‘t even used Bi...   neutral\n",
       "1107  What is QuickSwap, and how does it work?. Swap...   neutral\n",
       "1108  Binance custody partner clarifies Singapore li...   neutral\n",
       "1109  United States CBDC would ‘crowd out’ crypto ec...   neutral\n",
       "1110  France on the verge of passing stringent crypt...   neutral\n",
       "\n",
       "[1111 rows x 2 columns]"
      ]
     },
     "execution_count": 11,
     "metadata": {},
     "output_type": "execute_result"
    }
   ],
   "source": [
    "import re\n",
    "import html\n",
    "import pandas as pd\n",
    "\n",
    "\n",
    "df = pd.read_csv(csv_filename)\n",
    "df = df.dropna()\n",
    "\n",
    "def cleanup_text(x):\n",
    "    remove_text = [\n",
    "        'First Mover Americas:',\n",
    "        'First Mover Asia:',\n",
    "    ]\n",
    "    x = html.unescape(x.strip())\n",
    "    x = re.sub('<.*?>', '', x)\n",
    "    x = re.sub('\\s+', ' ', x)\n",
    "    x = x.replace(u'\\u200b', '')\n",
    "    for text in remove_text:\n",
    "        x = x.replace(text, '')\n",
    "    return x.strip()\n",
    "\n",
    "df['text'] = df['text'].apply(cleanup_text)\n",
    "\n",
    "df"
   ]
  },
  {
   "attachments": {},
   "cell_type": "markdown",
   "metadata": {},
   "source": [
    "Plot the frequency of the classes:"
   ]
  },
  {
   "cell_type": "code",
   "execution_count": 12,
   "metadata": {},
   "outputs": [
    {
     "data": {
      "image/png": "[encoded data removed]",
      "text/plain": [
       "<Figure size 500x200 with 1 Axes>"
      ]
     },
     "metadata": {},
     "output_type": "display_data"
    }
   ],
   "source": [
    "import matplotlib.pyplot as plt \n",
    "\n",
    "df['label'].value_counts().plot.barh(figsize=(5,2))\n",
    "plt.title('Frequency of classes')\n",
    "plt.show()"
   ]
  },
  {
   "attachments": {},
   "cell_type": "markdown",
   "metadata": {},
   "source": [
    "Plot the number of words per sample data:"
   ]
  },
  {
   "cell_type": "code",
   "execution_count": 13,
   "metadata": {},
   "outputs": [
    {
     "data": {
      "image/png": "[encoded data removed]",
      "text/plain": [
       "<Figure size 600x400 with 1 Axes>"
      ]
     },
     "metadata": {},
     "output_type": "display_data"
    }
   ],
   "source": [
    "df['num_words'] = df['text'].str.split().apply(len)\n",
    "df.boxplot('num_words', by='label', grid=False, showfliers=False, figsize=(6,4))\n",
    "plt.title('Number of words')\n",
    "plt.suptitle('')\n",
    "plt.xlabel('')\n",
    "plt.show()\n",
    "\n",
    "df = df.drop('num_words', axis=1)"
   ]
  },
  {
   "cell_type": "code",
   "execution_count": 14,
   "metadata": {},
   "outputs": [],
   "source": [
    "# Make balanced dataset\n",
    "df_pos = df[df['label'] == 'positive'].sample(350)\n",
    "df_neg = df[df['label'] == 'negative'].sample(350)\n",
    "df_net = df[df['label'] == 'neutral']\n",
    "\n",
    "\n",
    "def train_test_split(df, frac=1.0):\n",
    "    a = df.sample(frac=frac)\n",
    "    b = df.drop(a.index)\n",
    "    return a, b\n",
    "\n",
    "\n",
    "df_train_pos, df_pos = train_test_split(df_pos, frac=0.5)\n",
    "df_train_neg, df_neg = train_test_split(df_neg, frac=0.5)\n",
    "df_train_net, df_net = train_test_split(df_net, frac=0.5)\n",
    "\n",
    "df_val_pos, df_test_pos = train_test_split(df_pos, frac=0.5)\n",
    "df_val_neg, df_test_neg = train_test_split(df_neg, frac=0.5)\n",
    "df_val_net, df_test_net = train_test_split(df_net, frac=0.5)\n",
    "\n",
    "df_train = pd.concat([df_train_pos, df_train_neg, df_train_net]).sample(frac=1.0)\n",
    "df_val = pd.concat([df_val_pos, df_val_neg, df_val_net]).sample(frac=1.0)\n",
    "df_test = pd.concat([df_test_pos, df_test_neg, df_test_net]).sample(frac=1.0)\n",
    "\n",
    "df_train.to_csv(f'{DATA_DIR}/crypto-news-train.csv', index=False)\n",
    "df_val.to_csv(f'{DATA_DIR}/crypto-news-val.csv', index=False)\n",
    "df_test.to_csv(f'{DATA_DIR}/crypto-news-test.csv', index=False)"
   ]
  },
  {
   "attachments": {},
   "cell_type": "markdown",
   "metadata": {},
   "source": [
    "Convert to HuggingFace Dataset:"
   ]
  },
  {
   "cell_type": "code",
   "execution_count": 2,
   "metadata": {},
   "outputs": [
    {
     "name": "stderr",
     "output_type": "stream",
     "text": [
      "Found cached dataset csv (/Users/nash/.cache/huggingface/datasets/csv/default-a7bf34c4be4e567e/0.0.0/6b34fb8fcf56f7c8ba51dc895bfa2bfbe43546f190a60fcf74bb5e8afdcc2317)\n"
     ]
    },
    {
     "data": {
      "application/vnd.jupyter.widget-view+json": {
       "model_id": "6079ff518ff24f69a9c18487a24aaf89",
       "version_major": 2,
       "version_minor": 0
      },
      "text/plain": [
       "  0%|          | 0/3 [00:00<?, ?it/s]"
      ]
     },
     "metadata": {},
     "output_type": "display_data"
    },
    {
     "data": {
      "text/plain": [
       "DatasetDict({\n",
       "    train: Dataset({\n",
       "        features: ['text', 'label'],\n",
       "        num_rows: 518\n",
       "    })\n",
       "    validation: Dataset({\n",
       "        features: ['text', 'label'],\n",
       "        num_rows: 260\n",
       "    })\n",
       "    test: Dataset({\n",
       "        features: ['text', 'label'],\n",
       "        num_rows: 257\n",
       "    })\n",
       "})"
      ]
     },
     "execution_count": 2,
     "metadata": {},
     "output_type": "execute_result"
    }
   ],
   "source": [
    "from datasets import load_dataset, Features, Value, ClassLabel\n",
    "\n",
    "\n",
    "data_files = {\n",
    "    'train': 'data/crypto-news-train.csv',\n",
    "    'validation': 'data/crypto-news-val.csv',\n",
    "    'test': 'data/crypto-news-test.csv',\n",
    "}\n",
    "\n",
    "class_names = ['negative', 'neutral', 'positive']\n",
    "features = Features({\n",
    "    'text': Value('string'), \n",
    "    'label': ClassLabel(names=class_names)\n",
    "})\n",
    "\n",
    "dataset = load_dataset('csv', data_files=data_files, features=features)\n",
    "dataset"
   ]
  },
  {
   "attachments": {},
   "cell_type": "markdown",
   "metadata": {},
   "source": [
    "Push to the Hub:"
   ]
  },
  {
   "cell_type": "code",
   "execution_count": 3,
   "metadata": {},
   "outputs": [
    {
     "name": "stdout",
     "output_type": "stream",
     "text": [
      "Token is valid.\n",
      "Your token has been saved in your configured git credential helpers (osxkeychain).\n",
      "Your token has been saved to /Users/nash/.cache/huggingface/token\n",
      "Login successful\n"
     ]
    }
   ],
   "source": [
    "from huggingface_hub import notebook_login \n",
    "\n",
    "notebook_login()"
   ]
  },
  {
   "cell_type": "code",
   "execution_count": 4,
   "metadata": {},
   "outputs": [
    {
     "name": "stderr",
     "output_type": "stream",
     "text": [
      "Pushing split train to the Hub.\n"
     ]
    },
    {
     "data": {
      "application/vnd.jupyter.widget-view+json": {
       "model_id": "21af1b857fcc4e34bf18f474cda14728",
       "version_major": 2,
       "version_minor": 0
      },
      "text/plain": [
       "Pushing dataset shards to the dataset hub:   0%|          | 0/1 [00:00<?, ?it/s]"
      ]
     },
     "metadata": {},
     "output_type": "display_data"
    },
    {
     "data": {
      "application/vnd.jupyter.widget-view+json": {
       "model_id": "4f436d2d1c0a400f95dfea90c2245d73",
       "version_major": 2,
       "version_minor": 0
      },
      "text/plain": [
       "Creating parquet from Arrow format:   0%|          | 0/1 [00:00<?, ?ba/s]"
      ]
     },
     "metadata": {},
     "output_type": "display_data"
    },
    {
     "data": {
      "application/vnd.jupyter.widget-view+json": {
       "model_id": "efbeb1cea5384b2fad0fd4683c1ce1a1",
       "version_major": 2,
       "version_minor": 0
      },
      "text/plain": [
       "Upload 1 LFS files:   0%|          | 0/1 [00:00<?, ?it/s]"
      ]
     },
     "metadata": {},
     "output_type": "display_data"
    },
    {
     "name": "stderr",
     "output_type": "stream",
     "text": [
      "Pushing split validation to the Hub.\n"
     ]
    },
    {
     "data": {
      "application/vnd.jupyter.widget-view+json": {
       "model_id": "585f3412e0324b2d8c62ef21571ddf83",
       "version_major": 2,
       "version_minor": 0
      },
      "text/plain": [
       "Pushing dataset shards to the dataset hub:   0%|          | 0/1 [00:00<?, ?it/s]"
      ]
     },
     "metadata": {},
     "output_type": "display_data"
    },
    {
     "data": {
      "application/vnd.jupyter.widget-view+json": {
       "model_id": "e684ef7a1d3a4ae3bbf24b65f0a1b62a",
       "version_major": 2,
       "version_minor": 0
      },
      "text/plain": [
       "Creating parquet from Arrow format:   0%|          | 0/1 [00:00<?, ?ba/s]"
      ]
     },
     "metadata": {},
     "output_type": "display_data"
    },
    {
     "data": {
      "application/vnd.jupyter.widget-view+json": {
       "model_id": "9b0b59fcbb6a43b381de5685030c372b",
       "version_major": 2,
       "version_minor": 0
      },
      "text/plain": [
       "Upload 1 LFS files:   0%|          | 0/1 [00:00<?, ?it/s]"
      ]
     },
     "metadata": {},
     "output_type": "display_data"
    },
    {
     "name": "stderr",
     "output_type": "stream",
     "text": [
      "Pushing split test to the Hub.\n"
     ]
    },
    {
     "data": {
      "application/vnd.jupyter.widget-view+json": {
       "model_id": "6f236a7fb4cb4f88b7ce118d34b99fcc",
       "version_major": 2,
       "version_minor": 0
      },
      "text/plain": [
       "Pushing dataset shards to the dataset hub:   0%|          | 0/1 [00:00<?, ?it/s]"
      ]
     },
     "metadata": {},
     "output_type": "display_data"
    },
    {
     "data": {
      "application/vnd.jupyter.widget-view+json": {
       "model_id": "dfd30c15682d47b79f1915d96ad6fa6b",
       "version_major": 2,
       "version_minor": 0
      },
      "text/plain": [
       "Creating parquet from Arrow format:   0%|          | 0/1 [00:00<?, ?ba/s]"
      ]
     },
     "metadata": {},
     "output_type": "display_data"
    },
    {
     "data": {
      "application/vnd.jupyter.widget-view+json": {
       "model_id": "4143242daa974ef8927811f69a17c0bd",
       "version_major": 2,
       "version_minor": 0
      },
      "text/plain": [
       "Upload 1 LFS files:   0%|          | 0/1 [00:00<?, ?it/s]"
      ]
     },
     "metadata": {},
     "output_type": "display_data"
    }
   ],
   "source": [
    "dataset.push_to_hub('crypto-news-headlines')"
   ]
  }
 ],
 "metadata": {
  "kernelspec": {
   "display_name": "venv",
   "language": "python",
   "name": "python3"
  },
  "language_info": {
   "codemirror_mode": {
    "name": "ipython",
    "version": 3
   },
   "file_extension": ".py",
   "mimetype": "text/x-python",
   "name": "python",
   "nbconvert_exporter": "python",
   "pygments_lexer": "ipython3",
   "version": "3.10.7"
  },
  "orig_nbformat": 4
 },
 "nbformat": 4,
 "nbformat_minor": 2
}
